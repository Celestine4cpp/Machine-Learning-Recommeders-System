
{
 "cells": [
  {
   "cell_type": "code",
   "execution_count": 5,
   "metadata": {
    "collapsed": false
   },
   "outputs": [],
   "source": [
    "import numpy\n",
    "import scipy\n",
    "import csv\n",
    "import pandas as pd"
   ]
  },
  {
   "cell_type": "code",
   "execution_count": 6,
   "metadata": {
    "collapsed": false
   },
   "outputs": [],
   "source": [
    "# open the file in universal line ending mode \n",
    "df_train = pd.read_csv('train_modi.csv',delimiter=\",\")\n",
    "df_test = pd.read_csv('test_modi.csv',delimiter=\",\")\n",
    "df_train=pd.get_dummies(df_train)\n",
    "df_test=pd.get_dummies(df_test)"
   ]
  },
  {
   "cell_type": "code",
   "execution_count": 7,
   "metadata": {
    "collapsed": false
   },
   "outputs": [
    {
     "data": {
      "text/html": [
       "<div>\n",
       "<table border=\"1\" class=\"dataframe\">\n",
       "  <thead>\n",
       "    <tr style=\"text-align: right;\">\n",
       "      <th></th>\n",
       "      <th>age</th>\n",
       "      <th>fnlwgt</th>\n",
       "      <th>educationnum</th>\n",
       "      <th>capitalgain</th>\n",
       "      <th>capitalloss</th>\n",
       "      <th>hoursperweek</th>\n",
       "      <th>wrkclass_Federal-gov</th>\n",
       "      <th>wrkclass_Local-gov</th>\n",
       "      <th>wrkclass_Private</th>\n",
       "      <th>wrkclass_Self-emp-inc</th>\n",
       "      <th>...</th>\n",
       "      <th>nativecountry_Scotland</th>\n",
       "      <th>nativecountry_South</th>\n",
       "      <th>nativecountry_Taiwan</th>\n",
       "      <th>nativecountry_Thailand</th>\n",
       "      <th>nativecountry_Trinadad&amp;Tobago</th>\n",
       "      <th>nativecountry_United-States</th>\n",
       "      <th>nativecountry_Vietnam</th>\n",
       "      <th>nativecountry_Yugoslavia</th>\n",
       "      <th>income_&lt;=50K</th>\n",
       "      <th>income_&gt;50K</th>\n",
       "    </tr>\n",
       "  </thead>\n",
       "  <tbody>\n",
       "    <tr>\n",
       "      <th>0</th>\n",
       "      <td>39</td>\n",
       "      <td>77516</td>\n",
       "      <td>13</td>\n",
       "      <td>2174</td>\n",
       "      <td>0</td>\n",
       "      <td>40</td>\n",
       "      <td>0.0</td>\n",
       "      <td>0.0</td>\n",
       "      <td>0.0</td>\n",
       "      <td>0.0</td>\n",
       "      <td>...</td>\n",
       "      <td>0.0</td>\n",
       "      <td>0.0</td>\n",
       "      <td>0.0</td>\n",
       "      <td>0.0</td>\n",
       "      <td>0.0</td>\n",
       "      <td>1.0</td>\n",
       "      <td>0.0</td>\n",
       "      <td>0.0</td>\n",
       "      <td>1.0</td>\n",
       "      <td>0.0</td>\n",
       "    </tr>\n",
       "    <tr>\n",
       "      <th>1</th>\n",
       "      <td>50</td>\n",
       "      <td>83311</td>\n",
       "      <td>13</td>\n",
       "      <td>0</td>\n",
       "      <td>0</td>\n",
       "      <td>13</td>\n",
       "      <td>0.0</td>\n",
       "      <td>0.0</td>\n",
       "      <td>0.0</td>\n",
       "      <td>0.0</td>\n",
       "      <td>...</td>\n",
       "      <td>0.0</td>\n",
       "      <td>0.0</td>\n",
       "      <td>0.0</td>\n",
       "      <td>0.0</td>\n",
       "      <td>0.0</td>\n",
       "      <td>1.0</td>\n",
       "      <td>0.0</td>\n",
       "      <td>0.0</td>\n",
       "      <td>1.0</td>\n",
       "      <td>0.0</td>\n",
       "    </tr>\n",
       "    <tr>\n",
       "      <th>2</th>\n",
       "      <td>38</td>\n",
       "      <td>215646</td>\n",
       "      <td>9</td>\n",
       "      <td>0</td>\n",
       "      <td>0</td>\n",
       "      <td>40</td>\n",
       "      <td>0.0</td>\n",
       "      <td>0.0</td>\n",
       "      <td>1.0</td>\n",
       "      <td>0.0</td>\n",
       "      <td>...</td>\n",
       "      <td>0.0</td>\n",
       "      <td>0.0</td>\n",
       "      <td>0.0</td>\n",
       "      <td>0.0</td>\n",
       "      <td>0.0</td>\n",
       "      <td>1.0</td>\n",
       "      <td>0.0</td>\n",
       "      <td>0.0</td>\n",
       "      <td>1.0</td>\n",
       "      <td>0.0</td>\n",
       "    </tr>\n",
       "    <tr>\n",
       "      <th>3</th>\n",
       "      <td>53</td>\n",
       "      <td>234721</td>\n",
       "      <td>7</td>\n",
       "      <td>0</td>\n",
       "      <td>0</td>\n",
       "      <td>40</td>\n",
       "      <td>0.0</td>\n",
       "      <td>0.0</td>\n",
       "      <td>1.0</td>\n",
       "      <td>0.0</td>\n",
       "      <td>...</td>\n",
       "      <td>0.0</td>\n",
       "      <td>0.0</td>\n",
       "      <td>0.0</td>\n",
       "      <td>0.0</td>\n",
       "      <td>0.0</td>\n",
       "      <td>1.0</td>\n",
       "      <td>0.0</td>\n",
       "      <td>0.0</td>\n",
       "      <td>1.0</td>\n",
       "      <td>0.0</td>\n",
       "    </tr>\n",
       "    <tr>\n",
       "      <th>4</th>\n",
       "      <td>28</td>\n",
       "      <td>338409</td>\n",
       "      <td>13</td>\n",
       "      <td>0</td>\n",
       "      <td>0</td>\n",
       "      <td>40</td>\n",
       "      <td>0.0</td>\n",
       "      <td>0.0</td>\n",
       "      <td>1.0</td>\n",
       "      <td>0.0</td>\n",
       "      <td>...</td>\n",
       "      <td>0.0</td>\n",
       "      <td>0.0</td>\n",
       "      <td>0.0</td>\n",
       "      <td>0.0</td>\n",
       "      <td>0.0</td>\n",
       "      <td>0.0</td>\n",
       "      <td>0.0</td>\n",
       "      <td>0.0</td>\n",
       "      <td>1.0</td>\n",
       "      <td>0.0</td>\n",
       "    </tr>\n",
       "  </tbody>\n",
       "</table>\n",
       "<p>5 rows × 100 columns</p>\n",
       "</div>"
      ],
      "text/plain": [
       "   age  fnlwgt  educationnum  capitalgain  capitalloss  hoursperweek  \\\n",
       "0   39   77516            13         2174            0            40   \n",
       "1   50   83311            13            0            0            13   \n",
       "2   38  215646             9            0            0            40   \n",
       "3   53  234721             7            0            0            40   \n",
       "4   28  338409            13            0            0            40   \n",
       "\n",
       "   wrkclass_Federal-gov  wrkclass_Local-gov  wrkclass_Private  \\\n",
       "0                   0.0                 0.0               0.0   \n",
       "1                   0.0                 0.0               0.0   \n",
       "2                   0.0                 0.0               1.0   \n",
       "3                   0.0                 0.0               1.0   \n",
       "4                   0.0                 0.0               1.0   \n",
       "\n",
       "   wrkclass_Self-emp-inc     ...       nativecountry_Scotland  \\\n",
       "0                    0.0     ...                          0.0   \n",
       "1                    0.0     ...                          0.0   \n",
       "2                    0.0     ...                          0.0   \n",
       "3                    0.0     ...                          0.0   \n",
       "4                    0.0     ...                          0.0   \n",
       "\n",
       "   nativecountry_South  nativecountry_Taiwan  nativecountry_Thailand  \\\n",
       "0                  0.0                   0.0                     0.0   \n",
       "1                  0.0                   0.0                     0.0   \n",
       "2                  0.0                   0.0                     0.0   \n",
       "3                  0.0                   0.0                     0.0   \n",
       "4                  0.0                   0.0                     0.0   \n",
       "\n",
       "   nativecountry_Trinadad&Tobago  nativecountry_United-States  \\\n",
       "0                            0.0                          1.0   \n",
       "1                            0.0                          1.0   \n",
       "2                            0.0                          1.0   \n",
       "3                            0.0                          1.0   \n",
       "4                            0.0                          0.0   \n",
       "\n",
       "   nativecountry_Vietnam  nativecountry_Yugoslavia  income_<=50K  income_>50K  \n",
       "0                    0.0                       0.0           1.0          0.0  \n",
       "1                    0.0                       0.0           1.0          0.0  \n",
       "2                    0.0                       0.0           1.0          0.0  \n",
       "3                    0.0                       0.0           1.0          0.0  \n",
       "4                    0.0                       0.0           1.0          0.0  \n",
       "\n",
       "[5 rows x 100 columns]"
      ]
     },
     "execution_count": 7,
     "metadata": {},
     "output_type": "execute_result"
    }
   ],
   "source": [
    "df_train.head()"
   ]
  },
  {
   "cell_type": "code",
   "execution_count": 8,
   "metadata": {
    "collapsed": false
   },
   "outputs": [
    {
     "data": {
      "text/plain": [
       "['age',\n",
       " 'fnlwgt',\n",
       " 'educationnum',\n",
       " 'capitalgain',\n",
       " 'capitalloss',\n",
       " 'hoursperweek',\n",
       " 'wrkclass_Federal-gov',\n",
       " 'wrkclass_Local-gov',\n",
       " 'wrkclass_Private',\n",
       " 'wrkclass_Self-emp-inc',\n",
       " 'wrkclass_Self-emp-not-inc',\n",
       " 'wrkclass_State-gov',\n",
       " 'wrkclass_Without-pay',\n",
       " 'education_10th',\n",
       " 'education_11th',\n",
       " 'education_12th',\n",
       " 'education_1st-4th',\n",
       " 'education_5th-6th',\n",
       " 'education_7th-8th',\n",
       " 'education_9th',\n",
       " 'education_Assoc-acdm',\n",
       " 'education_Assoc-voc',\n",
       " 'education_Bachelors',\n",
       " 'education_Doctorate',\n",
       " 'education_HS-grad',\n",
       " 'education_Masters',\n",
       " 'education_Preschool',\n",
       " 'education_Prof-school',\n",
       " 'education_Some-college',\n",
       " 'maritalstatus_Married',\n",
       " 'maritalstatus_Unmarried',\n",
       " 'occupation_Adm-clerical',\n",
       " 'occupation_Armed-Forces',\n",
       " 'occupation_Craft-repair',\n",
       " 'occupation_Exec-managerial',\n",
       " 'occupation_Farming-fishing',\n",
       " 'occupation_Handlers-cleaners',\n",
       " 'occupation_Machine-op-inspct',\n",
       " 'occupation_Other-service',\n",
       " 'occupation_Priv-house-serv',\n",
       " 'occupation_Prof-specialty',\n",
       " 'occupation_Protective-serv',\n",
       " 'occupation_Sales',\n",
       " 'occupation_Tech-support',\n",
       " 'occupation_Transport-moving',\n",
       " 'relationship_Married',\n",
       " 'relationship_Not-in-family',\n",
       " 'relationship_Other-relative',\n",
       " 'relationship_Own-child',\n",
       " 'relationship_Unmarried',\n",
       " 'race_Amer-Indian-Eskimo',\n",
       " 'race_Asian-Pac-Islander',\n",
       " 'race_Black',\n",
       " 'race_Other',\n",
       " 'race_White',\n",
       " 'sex_Female',\n",
       " 'sex_Male',\n",
       " 'nativecountry_Cambodia',\n",
       " 'nativecountry_Canada',\n",
       " 'nativecountry_China',\n",
       " 'nativecountry_Columbia',\n",
       " 'nativecountry_Cuba',\n",
       " 'nativecountry_Dominican-Republic',\n",
       " 'nativecountry_Ecuador',\n",
       " 'nativecountry_El-Salvador',\n",
       " 'nativecountry_England',\n",
       " 'nativecountry_France',\n",
       " 'nativecountry_Germany',\n",
       " 'nativecountry_Greece',\n",
       " 'nativecountry_Guatemala',\n",
       " 'nativecountry_Haiti',\n",
       " 'nativecountry_Holand-Netherlands',\n",
       " 'nativecountry_Honduras',\n",
       " 'nativecountry_Hong',\n",
       " 'nativecountry_Hungary',\n",
       " 'nativecountry_India',\n",
       " 'nativecountry_Iran',\n",
       " 'nativecountry_Ireland',\n",
       " 'nativecountry_Italy',\n",
       " 'nativecountry_Jamaica',\n",
       " 'nativecountry_Japan',\n",
       " 'nativecountry_Laos',\n",
       " 'nativecountry_Mexico',\n",
       " 'nativecountry_Nicaragua',\n",
       " 'nativecountry_Outlying-US(Guam-USVI-etc)',\n",
       " 'nativecountry_Peru',\n",
       " 'nativecountry_Philippines',\n",
       " 'nativecountry_Poland',\n",
       " 'nativecountry_Portugal',\n",
       " 'nativecountry_Puerto-Rico',\n",
       " 'nativecountry_Scotland',\n",
       " 'nativecountry_South',\n",
       " 'nativecountry_Taiwan',\n",
       " 'nativecountry_Thailand',\n",
       " 'nativecountry_Trinadad&Tobago',\n",
       " 'nativecountry_United-States',\n",
       " 'nativecountry_Vietnam',\n",
       " 'nativecountry_Yugoslavia',\n",
       " 'income_<=50K',\n",
       " 'income_>50K']"
      ]
     },
     "execution_count": 8,
     "metadata": {},
     "output_type": "execute_result"
    }
   ],
   "source": [
    "list(df_train)"
   ]
  },
  {
   "cell_type": "code",
   "execution_count": 35,
   "metadata": {
    "collapsed": false
   },
   "outputs": [],
   "source": [
    "df_train = df_train.drop(['educationnum'], 1)\n",
    "df_test = df_test.drop(['educationnum'], 1)"
   ]
  },
  {
   "cell_type": "code",
   "execution_count": 37,
   "metadata": {
    "collapsed": false
   },
   "outputs": [
    {
     "data": {
      "text/plain": [
       "57"
      ]
     },
     "execution_count": 37,
     "metadata": {},
     "output_type": "execute_result"
    }
   ],
   "source": [
    "df_train.columns.get_loc('nativecountry_Cambodia')"
   ]
  },
  {
   "cell_type": "code",
   "execution_count": 19,
   "metadata": {
    "collapsed": true
   },
   "outputs": [],
   "source": [
    "df_test.insert(72,'nativecountry_Holand-Netherlands',0)"
   ]
  },
  {
   "cell_type": "code",
   "execution_count": 11,
   "metadata": {
    "collapsed": true
   },
   "outputs": [],
   "source": [
    "df_test.insert(0,'Bias_Term',1)\n",
    "df_train.insert(0,'Bias_Term',1)"
   ]
  },
  {
   "cell_type": "code",
   "execution_count": 38,
   "metadata": {
    "collapsed": false
   },
   "outputs": [
    {
     "data": {
      "text/plain": [
       "['Bias_Term',\n",
       " 'age',\n",
       " 'fnlwgt',\n",
       " 'capitalgain',\n",
       " 'capitalloss',\n",
       " 'hoursperweek',\n",
       " 'wrkclass_Federal-gov',\n",
       " 'wrkclass_Local-gov',\n",
       " 'wrkclass_Private',\n",
       " 'wrkclass_Self-emp-inc',\n",
       " 'wrkclass_Self-emp-not-inc',\n",
       " 'wrkclass_State-gov',\n",
       " 'wrkclass_Without-pay',\n",
       " 'education_10th',\n",
       " 'education_11th',\n",
       " 'education_12th',\n",
       " 'education_1st-4th',\n",
       " 'education_5th-6th',\n",
       " 'education_7th-8th',\n",
       " 'education_9th',\n",
       " 'education_Assoc-acdm',\n",
       " 'education_Assoc-voc',\n",
       " 'education_Bachelors',\n",
       " 'education_Doctorate',\n",
       " 'education_HS-grad',\n",
       " 'education_Masters',\n",
       " 'education_Preschool',\n",
       " 'education_Prof-school',\n",
       " 'education_Some-college',\n",
       " 'maritalstatus_Married',\n",
       " 'maritalstatus_Unmarried',\n",
       " 'occupation_Adm-clerical',\n",
       " 'occupation_Armed-Forces',\n",
       " 'occupation_Craft-repair',\n",
       " 'occupation_Exec-managerial',\n",
       " 'occupation_Farming-fishing',\n",
       " 'occupation_Handlers-cleaners',\n",
       " 'occupation_Machine-op-inspct',\n",
       " 'occupation_Other-service',\n",
       " 'occupation_Priv-house-serv',\n",
       " 'occupation_Prof-specialty',\n",
       " 'occupation_Protective-serv',\n",
       " 'occupation_Sales',\n",
       " 'occupation_Tech-support',\n",
       " 'occupation_Transport-moving',\n",
       " 'relationship_Married',\n",
       " 'relationship_Not-in-family',\n",
       " 'relationship_Other-relative',\n",
       " 'relationship_Own-child',\n",
       " 'relationship_Unmarried',\n",
       " 'race_Amer-Indian-Eskimo',\n",
       " 'race_Asian-Pac-Islander',\n",
       " 'race_Black',\n",
       " 'race_Other',\n",
       " 'race_White',\n",
       " 'sex_Female',\n",
       " 'sex_Male',\n",
       " 'nativecountry_Cambodia',\n",
       " 'nativecountry_Canada',\n",
       " 'nativecountry_China',\n",
       " 'nativecountry_Columbia',\n",
       " 'nativecountry_Cuba',\n",
       " 'nativecountry_Dominican-Republic',\n",
       " 'nativecountry_Ecuador',\n",
       " 'nativecountry_El-Salvador',\n",
       " 'nativecountry_England',\n",
       " 'nativecountry_France',\n",
       " 'nativecountry_Germany',\n",
       " 'nativecountry_Greece',\n",
       " 'nativecountry_Guatemala',\n",
       " 'nativecountry_Haiti',\n",
       " 'nativecountry_Holand-Netherlands',\n",
       " 'nativecountry_Honduras',\n",
       " 'nativecountry_Hong',\n",
       " 'nativecountry_Hungary',\n",
       " 'nativecountry_India',\n",
       " 'nativecountry_Iran',\n",
       " 'nativecountry_Ireland',\n",
       " 'nativecountry_Italy',\n",
       " 'nativecountry_Jamaica',\n",
       " 'nativecountry_Japan',\n",
       " 'nativecountry_Laos',\n",
       " 'nativecountry_Mexico',\n",
       " 'nativecountry_Nicaragua',\n",
       " 'nativecountry_Outlying-US(Guam-USVI-etc)',\n",
       " 'nativecountry_Peru',\n",
       " 'nativecountry_Philippines',\n",
       " 'nativecountry_Poland',\n",
       " 'nativecountry_Portugal',\n",
       " 'nativecountry_Puerto-Rico',\n",
       " 'nativecountry_Scotland',\n",
       " 'nativecountry_South',\n",
       " 'nativecountry_Taiwan',\n",
       " 'nativecountry_Thailand',\n",
       " 'nativecountry_Trinadad&Tobago',\n",
       " 'nativecountry_United-States',\n",
       " 'nativecountry_Vietnam',\n",
       " 'nativecountry_Yugoslavia',\n",
       " 'income_<=50K.',\n",
       " 'income_>50K.']"
      ]
     },
     "execution_count": 38,
     "metadata": {},
     "output_type": "execute_result"
    }
   ],
   "source": [
    "list(df_test)"
   ]
  },
  {
   "cell_type": "code",
   "execution_count": 13,
   "metadata": {
    "collapsed": false
   },
   "outputs": [
    {
     "data": {
      "text/plain": [
       "['Bias_Term',\n",
       " 'age',\n",
       " 'fnlwgt',\n",
       " 'educationnum',\n",
       " 'capitalgain',\n",
       " 'capitalloss',\n",
       " 'hoursperweek',\n",
       " 'wrkclass_Federal-gov',\n",
       " 'wrkclass_Local-gov',\n",
       " 'wrkclass_Private',\n",
       " 'wrkclass_Self-emp-inc',\n",
       " 'wrkclass_Self-emp-not-inc',\n",
       " 'wrkclass_State-gov',\n",
       " 'wrkclass_Without-pay',\n",
       " 'education_10th',\n",
       " 'education_11th',\n",
       " 'education_12th',\n",
       " 'education_1st-4th',\n",
       " 'education_5th-6th',\n",
       " 'education_7th-8th',\n",
       " 'education_9th',\n",
       " 'education_Assoc-acdm',\n",
       " 'education_Assoc-voc',\n",
       " 'education_Bachelors',\n",
       " 'education_Doctorate',\n",
       " 'education_HS-grad',\n",
       " 'education_Masters',\n",
       " 'education_Preschool',\n",
       " 'education_Prof-school',\n",
       " 'education_Some-college',\n",
       " 'maritalstatus_Married',\n",
       " 'maritalstatus_Unmarried',\n",
       " 'occupation_Adm-clerical',\n",
       " 'occupation_Armed-Forces',\n",
       " 'occupation_Craft-repair',\n",
       " 'occupation_Exec-managerial',\n",
       " 'occupation_Farming-fishing',\n",
       " 'occupation_Handlers-cleaners',\n",
       " 'occupation_Machine-op-inspct',\n",
       " 'occupation_Other-service',\n",
       " 'occupation_Priv-house-serv',\n",
       " 'occupation_Prof-specialty',\n",
       " 'occupation_Protective-serv',\n",
       " 'occupation_Sales',\n",
       " 'occupation_Tech-support',\n",
       " 'occupation_Transport-moving',\n",
       " 'relationship_Married',\n",
       " 'relationship_Not-in-family',\n",
       " 'relationship_Other-relative',\n",
       " 'relationship_Own-child',\n",
       " 'relationship_Unmarried',\n",
       " 'race_Amer-Indian-Eskimo',\n",
       " 'race_Asian-Pac-Islander',\n",
       " 'race_Black',\n",
       " 'race_Other',\n",
       " 'race_White',\n",
       " 'sex_Female',\n",
       " 'sex_Male',\n",
       " 'nativecountry_Cambodia',\n",
       " 'nativecountry_Canada',\n",
       " 'nativecountry_China',\n",
       " 'nativecountry_Columbia',\n",
       " 'nativecountry_Cuba',\n",
       " 'nativecountry_Dominican-Republic',\n",
       " 'nativecountry_Ecuador',\n",
       " 'nativecountry_El-Salvador',\n",
       " 'nativecountry_England',\n",
       " 'nativecountry_France',\n",
       " 'nativecountry_Germany',\n",
       " 'nativecountry_Greece',\n",
       " 'nativecountry_Guatemala',\n",
       " 'nativecountry_Haiti',\n",
       " 'nativecountry_Holand-Netherlands',\n",
       " 'nativecountry_Honduras',\n",
       " 'nativecountry_Hong',\n",
       " 'nativecountry_Hungary',\n",
       " 'nativecountry_India',\n",
       " 'nativecountry_Iran',\n",
       " 'nativecountry_Ireland',\n",
       " 'nativecountry_Italy',\n",
       " 'nativecountry_Jamaica',\n",
       " 'nativecountry_Japan',\n",
       " 'nativecountry_Laos',\n",
       " 'nativecountry_Mexico',\n",
       " 'nativecountry_Nicaragua',\n",
       " 'nativecountry_Outlying-US(Guam-USVI-etc)',\n",
       " 'nativecountry_Peru',\n",
       " 'nativecountry_Philippines',\n",
       " 'nativecountry_Poland',\n",
       " 'nativecountry_Portugal',\n",
       " 'nativecountry_Puerto-Rico',\n",
       " 'nativecountry_Scotland',\n",
       " 'nativecountry_South',\n",
       " 'nativecountry_Taiwan',\n",
       " 'nativecountry_Thailand',\n",
       " 'nativecountry_Trinadad&Tobago',\n",
       " 'nativecountry_United-States',\n",
       " 'nativecountry_Vietnam',\n",
       " 'nativecountry_Yugoslavia',\n",
       " 'income_<=50K',\n",
       " 'income_>50K']"
      ]
     },
     "execution_count": 13,
     "metadata": {},
     "output_type": "execute_result"
    }
   ],
   "source": [
    "list(df_train)"
   ]
  },
  {
   "cell_type": "code",
   "execution_count": 39,
   "metadata": {
    "collapsed": false
   },
   "outputs": [
    {
     "data": {
      "text/plain": [
       "(15310, 100)"
      ]
     },
     "execution_count": 39,
     "metadata": {},
     "output_type": "execute_result"
    }
   ],
   "source": [
    "df_test.shape"
   ]
  },
  {
   "cell_type": "code",
   "execution_count": 40,
   "metadata": {
    "collapsed": false
   },
   "outputs": [
    {
     "data": {
      "text/plain": [
       "(30694, 100)"
      ]
     },
     "execution_count": 40,
     "metadata": {},
     "output_type": "execute_result"
    }
   ],
   "source": [
    "df_train.shape"
   ]
  },
  {
   "cell_type": "code",
   "execution_count": 41,
   "metadata": {
    "collapsed": false
   },
   "outputs": [
    {
     "data": {
      "text/plain": [
       "Index(['income_<=50K', 'income_>50K'], dtype='object')"
      ]
     },
     "execution_count": 41,
     "metadata": {},
     "output_type": "execute_result"
    }
   ],
   "source": [
    "df_train.columns.difference(df_test.columns)"
   ]
  },
  {
   "cell_type": "code",
   "execution_count": 26,
   "metadata": {
    "collapsed": false
   },
   "outputs": [
    {
     "data": {
      "text/plain": [
       "0    39\n",
       "1    50\n",
       "2    38\n",
       "3    53\n",
       "4    28\n",
       "Name: age, dtype: int64"
      ]
     },
     "execution_count": 26,
     "metadata": {},
     "output_type": "execute_result"
    }
   ],
   "source": [
    "#Accessing columns\n",
    "df_train['age'].head()"
   ]
  },
  {
   "cell_type": "code",
   "execution_count": 36,
   "metadata": {
    "collapsed": true
   },
   "outputs": [
    {
     "data": {
      "text/plain": [
       "1        50\n",
       "3        53\n",
       "7        52\n",
       "21       54\n",
       "24       59\n",
       "25       56\n",
       "27       54\n",
       "41       53\n",
       "45       57\n",
       "46       53\n",
       "53       50\n",
       "67       53\n",
       "74       79\n",
       "77       67\n",
       "81       52\n",
       "83       59\n",
       "85       53\n",
       "90       57\n",
       "100      76\n",
       "112      56\n",
       "115      53\n",
       "116      56\n",
       "118      55\n",
       "140      61\n",
       "144      70\n",
       "148      64\n",
       "154      52\n",
       "157      71\n",
       "160      68\n",
       "169      66\n",
       "         ..\n",
       "32448    61\n",
       "32454    50\n",
       "32459    85\n",
       "32460    62\n",
       "32463    58\n",
       "32465    66\n",
       "32467    55\n",
       "32469    58\n",
       "32470    50\n",
       "32479    64\n",
       "32481    52\n",
       "32487    51\n",
       "32489    61\n",
       "32490    60\n",
       "32494    82\n",
       "32498    57\n",
       "32501    71\n",
       "32504    50\n",
       "32507    50\n",
       "32515    66\n",
       "32518    57\n",
       "32522    58\n",
       "32525    81\n",
       "32533    54\n",
       "32539    71\n",
       "32542    72\n",
       "32548    65\n",
       "32554    53\n",
       "32558    58\n",
       "32560    52\n",
       "Name: age, dtype: int64"
      ]
     },
     "execution_count": 36,
     "metadata": {},
     "output_type": "execute_result"
    }
   ],
   "source": [
    "#Accessing rows, columns\n",
    "df_train.loc[df_train['age'] >= 50, 'age']"
   ]
  },
  {
   "cell_type": "code",
   "execution_count": 42,
   "metadata": {
    "collapsed": false
   },
   "outputs": [],
   "source": [
    "data_train=df_train.as_matrix()\n",
    "data_test=df_test.as_matrix()"
   ]
  },
  {
   "cell_type": "code",
   "execution_count": 45,
   "metadata": {
    "collapsed": false
   },
   "outputs": [],
   "source": [
    "X_train=[d[0:57] for d in data_train]\n",
    "X_test=[d[0:57] for d in data_test]\n",
    "Y_train=[d[99] for d in data_train]\n",
    "Y_test=[d[99] for d in data_test]"
   ]
  },
  {
   "cell_type": "code",
   "execution_count": 46,
   "metadata": {
    "collapsed": false
   },
   "outputs": [],
   "source": [
    "X_train=numpy.matrix(X_train)\n",
    "X_test=numpy.matrix(X_test)\n",
    "Y_train=numpy.matrix(Y_train)\n",
    "Y_train=numpy.ravel(Y_train)\n",
    "Y_test=numpy.matrix(Y_test)\n",
    "Y_test=numpy.ravel(Y_test)"
   ]
  },
  {
   "cell_type": "code",
   "execution_count": 47,
   "metadata": {
    "collapsed": false
   },
   "outputs": [
    {
     "data": {
      "text/plain": [
       "(15310, 57)"
      ]
     },
     "execution_count": 47,
     "metadata": {},
     "output_type": "execute_result"
    }
   ],
   "source": [
    "X_test.shape"
   ]
  },
  {
   "cell_type": "code",
   "execution_count": 48,
   "metadata": {
    "collapsed": false
   },
   "outputs": [
    {
     "name": "stdout",
     "output_type": "stream",
     "text": [
      "LogReg 0.792619203135\n"
     ]
    }
   ],
   "source": [
    "from sklearn.linear_model import LogisticRegression\n",
    "from sklearn import metrics\n",
    "\n",
    "# instantiate\n",
    "logreg = LogisticRegression()\n",
    "\n",
    "# fit\n",
    "logreg.fit(X_train, Y_train)\n",
    "\n",
    "# predict\n",
    "y_pred = logreg.predict(X_test)\n",
    "\n",
    "print('LogReg %s' % metrics.accuracy_score(Y_test, y_pred))"
   ]
  },
  {
   "cell_type": "code",
   "execution_count": 49,
   "metadata": {
    "collapsed": false
   },
   "outputs": [
    {
     "name": "stdout",
     "output_type": "stream",
     "text": [
      "LogReg 0.790838600378\n"
     ]
    }
   ],
   "source": [
    "y_pred = logreg.predict(X_train)\n",
    "print('LogReg %s' % metrics.accuracy_score(Y_train, y_pred))"
   ]
  },
  {
   "cell_type": "code",
   "execution_count": 33,
   "metadata": {
    "collapsed": false
   },
   "outputs": [
    {
     "data": {
      "text/plain": [
       "array([  0.00000000e+00,   1.56523668e-01,   1.75164718e-01,\n",
       "         2.99330020e-02,   6.30870011e-02,   2.14897174e-02,\n",
       "         9.46970734e-02,   5.05621453e-03,   4.92326469e-03,\n",
       "         8.79870395e-03,   6.26924689e-03,   8.26363623e-03,\n",
       "         4.76026771e-03,   7.73061799e-05,   2.09709314e-03,\n",
       "         2.39159631e-03,   1.10286791e-03,   3.39898711e-04,\n",
       "         6.83978342e-04,   2.85050427e-03,   1.77693896e-03,\n",
       "         2.93939291e-03,   3.39457405e-03,   1.70341640e-02,\n",
       "         4.38125368e-03,   1.21409534e-02,   9.55385909e-03,\n",
       "         5.62331389e-05,   5.96715979e-03,   5.97800078e-03,\n",
       "         9.44879365e-02,   5.17192093e-02,   4.82746635e-03,\n",
       "         2.95828803e-05,   6.61343439e-03,   2.00899673e-02,\n",
       "         4.84760203e-03,   4.45428003e-03,   4.31573547e-03,\n",
       "         8.04530374e-03,   2.08356282e-04,   2.21339800e-02,\n",
       "         2.47235186e-03,   6.06659803e-03,   4.07381371e-03,\n",
       "         4.70233205e-03,   2.21327953e-02,   7.42912933e-03,\n",
       "         2.08655237e-03,   8.52160285e-03,   7.49217248e-03,\n",
       "         1.57901051e-03,   3.33109391e-03,   4.85446648e-03,\n",
       "         1.18675366e-03,   6.36653836e-03,   1.12796571e-02,\n",
       "         9.32658669e-03,   3.21421513e-04,   1.19758601e-03,\n",
       "         5.81186564e-04,   3.07681130e-04,   8.60072163e-04,\n",
       "         2.48898785e-04,   1.34820607e-04,   2.98117136e-04,\n",
       "         8.51799298e-04,   4.04909134e-04,   1.32300093e-03,\n",
       "         4.39506531e-04,   2.04769926e-04,   2.73745977e-04,\n",
       "         0.00000000e+00,   2.70768219e-06,   1.30145830e-04,\n",
       "         1.74063625e-04,   7.14052899e-04,   5.41280372e-04,\n",
       "         1.79606903e-04,   8.61725255e-04,   4.26227187e-04,\n",
       "         7.14971209e-04,   1.46819684e-04,   2.07474599e-03,\n",
       "         1.15877254e-04,   3.43286318e-05,   1.06555058e-04,\n",
       "         1.00084851e-03,   5.02915949e-04,   2.66591776e-04,\n",
       "         6.07770229e-04,   7.38954985e-05,   7.29252652e-04,\n",
       "         3.26147085e-04,   9.00487219e-05,   1.22008193e-04,\n",
       "         5.56466783e-03,   3.58490597e-04,   2.80142574e-04])"
      ]
     },
     "execution_count": 33,
     "metadata": {},
     "output_type": "execute_result"
    }
   ],
   "source": [
    "from sklearn.ensemble import ExtraTreesClassifier\n",
    "extree = ExtraTreesClassifier()\n",
    "extree.fit(X_train, Y_train)\n",
    "\n",
    "# display the relative importance of each attribute\n",
    "extree.feature_importances_"
   ]
  },
  {
   "cell_type": "code",
   "execution_count": 34,
   "metadata": {
    "collapsed": false
   },
   "outputs": [
    {
     "name": "stdout",
     "output_type": "stream",
     "text": [
      "24 0.795819725669\n"
     ]
    }
   ],
   "source": [
    "from sklearn.neighbors import KNeighborsClassifier\n",
    "k_range = numpy.arange(1, 26)\n",
    "scores = []\n",
    "for k in k_range:\n",
    "    knn = KNeighborsClassifier(n_neighbors=k)\n",
    "    knn.fit(X_train, Y_train)\n",
    "    y_pred = knn.predict(X_test)\n",
    "    scores.append(metrics.accuracy_score(Y_test, y_pred))\n",
    "print(scores.index(max(scores)), max(scores))"
   ]
  },
  {
   "cell_type": "code",
   "execution_count": 52,
   "metadata": {
    "collapsed": false
   },
   "outputs": [],
   "source": [
    "import matplotlib.pyplot as plt\n",
    "plt.plot(k_range, scores)\n",
    "plt.xlabel('Value of K for KNN')\n",
    "plt.ylabel('Testing Accuracy')\n",
    "plt.grid(True)"
   ]
  },
  {
   "cell_type": "code",
   "execution_count": 53,
   "metadata": {
    "collapsed": false
   },
   "outputs": [
    {
     "data": {
      "image/png": "[encoded data removed]",
      "text/plain": [
       "<matplotlib.figure.Figure at 0x8508f30>"
      ]
     },
     "metadata": {},
     "output_type": "display_data"
    }
   ],
   "source": [
    "plt.show()"
   ]
  },
  {
   "cell_type": "code",
   "execution_count": 30,
   "metadata": {
    "collapsed": false
   },
   "outputs": [
    {
     "data": {
      "text/plain": [
       "0.80522534291312864"
      ]
     },
     "execution_count": 30,
     "metadata": {},
     "output_type": "execute_result"
    }
   ],
   "source": [
    "from sklearn.ensemble import GradientBoostingClassifier\n",
    "from sklearn import tree\n",
    "clf = tree.DecisionTreeClassifier()\n",
    "clf = clf.fit(X_train, Y_train)\n",
    "y_pred = clf.predict(X_test)\n",
    "metrics.accuracy_score(Y_test, y_pred)"
   ]
  },
  {
   "cell_type": "code",
   "execution_count": 50,
   "metadata": {
    "collapsed": false
   },
   "outputs": [
    {
     "name": "stdout",
     "output_type": "stream",
     "text": [
      "GBC 0.863198019157\n"
     ]
    }
   ],
   "source": [
    "gbc = GradientBoostingClassifier().fit(X_train, Y_train)\n",
    "print('GBC %s' % gbc.score(X_train, Y_train))"
   ]
  },
  {
   "cell_type": "code",
   "execution_count": 51,
   "metadata": {
    "collapsed": false
   },
   "outputs": [
    {
     "name": "stdout",
     "output_type": "stream",
     "text": [
      "GBC 0.863291966035\n"
     ]
    }
   ],
   "source": [
    "print('GBC %s' % gbc.score(X_test, Y_test))"
   ]
  },
  {
   "cell_type": "code",
   "execution_count": 47,
   "metadata": {
    "collapsed": false
   },
   "outputs": [
    {
     "data": {
      "text/plain": [
       "SVC(C=1.0, cache_size=200, class_weight=None, coef0=0.0,\n",
       "  decision_function_shape=None, degree=3, gamma='auto', kernel='rbf',\n",
       "  max_iter=-1, probability=False, random_state=None, shrinking=True,\n",
       "  tol=0.001, verbose=False)"
      ]
     },
     "execution_count": 47,
     "metadata": {},
     "output_type": "execute_result"
    }
   ],
   "source": [
    "from sklearn.svm import SVC\n",
    "clf = SVC()\n",
    "clf.fit(X_train, Y_train) "
   ]
  },
  {
   "cell_type": "code",
   "execution_count": 45,
   "metadata": {
    "collapsed": false
   },
   "outputs": [
    {
     "data": {
      "text/plain": [
       "0.76039555309870399"
      ]
     },
     "execution_count": 45,
     "metadata": {},
     "output_type": "execute_result"
    }
   ],
   "source": [
    "clf.score(X_test,Y_test)"
   ]
  },
  {
   "cell_type": "code",
   "execution_count": 48,
   "metadata": {
    "collapsed": false
   },
   "outputs": [
    {
     "data": {
      "text/plain": [
       "0.96065845643561321"
      ]
     },
     "execution_count": 48,
     "metadata": {},
     "output_type": "execute_result"
    }
   ],
   "source": [
    "clf.score(X_train,Y_train)"
   ]
  },
  {
   "cell_type": "code",
   "execution_count": null,
   "metadata": {
    "collapsed": true
   },
   "outputs": [],
   "source": []
  },
  {
   "cell_type": "code",
   "execution_count": null,
   "metadata": {
    "collapsed": true
   },
   "outputs": [],
   "source": []
  },
  {
   "cell_type": "code",
   "execution_count": null,
   "metadata": {
    "collapsed": true
   },
   "outputs": [],
   "source": []
  },
  {
   "cell_type": "code",
   "execution_count": null,
   "metadata": {
    "collapsed": true
   },
   "outputs": [],
   "source": []
  },
  {
   "cell_type": "code",
   "execution_count": 15,
   "metadata": {
    "collapsed": false
   },
   "outputs": [],
   "source": [
    "y=[(data[i][14]==' >50K') for i in range(len(data))]"
   ]
  },
  {
   "cell_type": "code",
   "execution_count": 16,
   "metadata": {
    "collapsed": false
   },
   "outputs": [
    {
     "data": {
      "text/plain": [
       "[False, False, False, False, False, False, False, True, True, True]"
      ]
     },
     "execution_count": 16,
     "metadata": {},
     "output_type": "execute_result"
    }
   ],
   "source": [
    "y[:10]"
   ]
  },
  {
   "cell_type": "code",
   "execution_count": 17,
   "metadata": {
    "collapsed": false
   },
   "outputs": [],
   "source": [
    "temp_pos=[]\n",
    "temp_neg=[]\n",
    "for i in range(len(data)):\n",
    "    if (y[i]==1):\n",
    "        temp_pos.append(data[i][2])\n",
    "    else:\n",
    "        temp_neg.append(data[i][2])\n",
    "        "
   ]
  },
  {
   "cell_type": "code",
   "execution_count": 18,
   "metadata": {
    "collapsed": false
   },
   "outputs": [
    {
     "data": {
      "text/plain": [
       "1226583"
      ]
     },
     "execution_count": 18,
     "metadata": {},
     "output_type": "execute_result"
    }
   ],
   "source": [
    "max(temp_pos)"
   ]
  },
  {
   "cell_type": "code",
   "execution_count": 16,
   "metadata": {
    "collapsed": false
   },
   "outputs": [
    {
     "data": {
      "image/png": "[encoded data removed]",
      "text/plain": [
       "<matplotlib.figure.Figure at 0x97b9410>"
      ]
     },
     "metadata": {},
     "output_type": "display_data"
    }
   ],
   "source": [
    "import matplotlib.pyplot as plt\n",
    "\n",
    "plt.plot(range(len(temp_neg)),temp_neg)\n",
    "plt.show()"
   ]
  },
  {
   "cell_type": "code",
   "execution_count": 19,
   "metadata": {
    "collapsed": false
   },
   "outputs": [
    {
     "data": {
      "image/png": "[encoded data removed]",
      "text/plain": [
       "<matplotlib.figure.Figure at 0x7572710>"
      ]
     },
     "metadata": {},
     "output_type": "display_data"
    }
   ],
   "source": [
    "import numpy as np\n",
    "import scipy.stats as stats\n",
    "import pylab as pl\n",
    "\n",
    "h = sorted(temp_neg)  #sorted\n",
    "\n",
    "fit = stats.norm.pdf(h, np.mean(h), np.std(h))  #this is a fitting indeed\n",
    "\n",
    "pl.plot(h,fit,'-o')\n",
    "\n",
    "pl.hist(h,normed=True)      #use this to draw histogram of your data\n",
    "\n",
    "pl.show()                   #use may also need add this "
   ]
  },
  {
   "cell_type": "code",
   "execution_count": 20,
   "metadata": {
    "collapsed": false
   },
   "outputs": [
    {
     "data": {
      "image/png": "[encoded data removed]",
      "text/plain": [
       "<matplotlib.figure.Figure at 0x9895710>"
      ]
     },
     "metadata": {},
     "output_type": "display_data"
    }
   ],
   "source": [
    "import numpy as np\n",
    "import scipy.stats as stats\n",
    "import pylab as pl\n",
    "\n",
    "h = sorted(temp_pos)  #sorted\n",
    "\n",
    "fit = stats.norm.pdf(h, np.mean(h), np.std(h))  #this is a fitting indeed\n",
    "\n",
    "pl.plot(h,fit,'-o')\n",
    "\n",
    "pl.hist(h,normed=True)      #use this to draw histogram of your data\n",
    "\n",
    "pl.show()                   #use may also need add this "
   ]
  },
  {
   "cell_type": "code",
   "execution_count": null,
   "metadata": {
    "collapsed": true
   },
   "outputs": [],
   "source": []
  }
 ],
 "metadata": {
  "anaconda-cloud": {},
  "kernelspec": {
   "display_name": "Python [default]",
   "language": "python",
   "name": "python3"
  },
  "language_info": {
   "codemirror_mode": {
    "name": "ipython",
    "version": 3
   },
   "file_extension": ".py",
   "mimetype": "text/x-python",
   "name": "python",
   "nbconvert_exporter": "python",
   "pygments_lexer": "ipython3",
   "version": "3.5.2"
  }
 },
 "nbformat": 4,
 "nbformat_minor": 1
}
