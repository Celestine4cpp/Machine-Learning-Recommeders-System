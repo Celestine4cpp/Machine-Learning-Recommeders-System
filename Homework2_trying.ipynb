{
 "cells": [
  {
   "cell_type": "code",
   "execution_count": 19,
   "metadata": {
    "collapsed": false
   },
   "outputs": [],
   "source": [
    "import numpy\n",
    "import scipy\n",
    "import csv\n",
    "import pandas as pd"
   ]
  },
  {
   "cell_type": "code",
   "execution_count": 20,
   "metadata": {
    "collapsed": false
   },
   "outputs": [],
   "source": [
    "# open the file in universal line ending mode \n",
    "df_train = pd.read_csv('train.csv',delimiter=\",\")\n",
    "df_test = pd.read_csv('test.csv',delimiter=\",\")\n",
    "df_train=pd.get_dummies(df_train)\n",
    "df_test=pd.get_dummies(df_test)"
   ]
  },
  {
   "cell_type": "code",
   "execution_count": 41,
   "metadata": {
    "collapsed": false
   },
   "outputs": [
    {
     "data": {
      "text/html": [
       "<div>\n",
       "<table border=\"1\" class=\"dataframe\">\n",
       "  <thead>\n",
       "    <tr style=\"text-align: right;\">\n",
       "      <th></th>\n",
       "      <th>age</th>\n",
       "      <th>fnlwgt</th>\n",
       "      <th>educationnum</th>\n",
       "      <th>capitalgain</th>\n",
       "      <th>capitalloss</th>\n",
       "      <th>hoursperweek</th>\n",
       "      <th>wrkclass_ Federal-gov</th>\n",
       "      <th>wrkclass_ Local-gov</th>\n",
       "      <th>wrkclass_ Never-worked</th>\n",
       "      <th>wrkclass_ Private</th>\n",
       "      <th>...</th>\n",
       "      <th>nativecountry_ Scotland</th>\n",
       "      <th>nativecountry_ South</th>\n",
       "      <th>nativecountry_ Taiwan</th>\n",
       "      <th>nativecountry_ Thailand</th>\n",
       "      <th>nativecountry_ Trinadad&amp;Tobago</th>\n",
       "      <th>nativecountry_ United-States</th>\n",
       "      <th>nativecountry_ Vietnam</th>\n",
       "      <th>nativecountry_ Yugoslavia</th>\n",
       "      <th>income_ &lt;=50K.</th>\n",
       "      <th>income_ &gt;50K.</th>\n",
       "    </tr>\n",
       "  </thead>\n",
       "  <tbody>\n",
       "    <tr>\n",
       "      <th>0</th>\n",
       "      <td>25</td>\n",
       "      <td>226802</td>\n",
       "      <td>7</td>\n",
       "      <td>0</td>\n",
       "      <td>0</td>\n",
       "      <td>40</td>\n",
       "      <td>0.0</td>\n",
       "      <td>0.0</td>\n",
       "      <td>0.0</td>\n",
       "      <td>1.0</td>\n",
       "      <td>...</td>\n",
       "      <td>0.0</td>\n",
       "      <td>0.0</td>\n",
       "      <td>0.0</td>\n",
       "      <td>0.0</td>\n",
       "      <td>0.0</td>\n",
       "      <td>1.0</td>\n",
       "      <td>0.0</td>\n",
       "      <td>0.0</td>\n",
       "      <td>1.0</td>\n",
       "      <td>0.0</td>\n",
       "    </tr>\n",
       "    <tr>\n",
       "      <th>1</th>\n",
       "      <td>38</td>\n",
       "      <td>89814</td>\n",
       "      <td>9</td>\n",
       "      <td>0</td>\n",
       "      <td>0</td>\n",
       "      <td>50</td>\n",
       "      <td>0.0</td>\n",
       "      <td>0.0</td>\n",
       "      <td>0.0</td>\n",
       "      <td>1.0</td>\n",
       "      <td>...</td>\n",
       "      <td>0.0</td>\n",
       "      <td>0.0</td>\n",
       "      <td>0.0</td>\n",
       "      <td>0.0</td>\n",
       "      <td>0.0</td>\n",
       "      <td>1.0</td>\n",
       "      <td>0.0</td>\n",
       "      <td>0.0</td>\n",
       "      <td>1.0</td>\n",
       "      <td>0.0</td>\n",
       "    </tr>\n",
       "    <tr>\n",
       "      <th>2</th>\n",
       "      <td>28</td>\n",
       "      <td>336951</td>\n",
       "      <td>12</td>\n",
       "      <td>0</td>\n",
       "      <td>0</td>\n",
       "      <td>40</td>\n",
       "      <td>0.0</td>\n",
       "      <td>1.0</td>\n",
       "      <td>0.0</td>\n",
       "      <td>0.0</td>\n",
       "      <td>...</td>\n",
       "      <td>0.0</td>\n",
       "      <td>0.0</td>\n",
       "      <td>0.0</td>\n",
       "      <td>0.0</td>\n",
       "      <td>0.0</td>\n",
       "      <td>1.0</td>\n",
       "      <td>0.0</td>\n",
       "      <td>0.0</td>\n",
       "      <td>0.0</td>\n",
       "      <td>1.0</td>\n",
       "    </tr>\n",
       "    <tr>\n",
       "      <th>3</th>\n",
       "      <td>44</td>\n",
       "      <td>160323</td>\n",
       "      <td>10</td>\n",
       "      <td>7688</td>\n",
       "      <td>0</td>\n",
       "      <td>40</td>\n",
       "      <td>0.0</td>\n",
       "      <td>0.0</td>\n",
       "      <td>0.0</td>\n",
       "      <td>1.0</td>\n",
       "      <td>...</td>\n",
       "      <td>0.0</td>\n",
       "      <td>0.0</td>\n",
       "      <td>0.0</td>\n",
       "      <td>0.0</td>\n",
       "      <td>0.0</td>\n",
       "      <td>1.0</td>\n",
       "      <td>0.0</td>\n",
       "      <td>0.0</td>\n",
       "      <td>0.0</td>\n",
       "      <td>1.0</td>\n",
       "    </tr>\n",
       "    <tr>\n",
       "      <th>4</th>\n",
       "      <td>18</td>\n",
       "      <td>103497</td>\n",
       "      <td>10</td>\n",
       "      <td>0</td>\n",
       "      <td>0</td>\n",
       "      <td>30</td>\n",
       "      <td>0.0</td>\n",
       "      <td>0.0</td>\n",
       "      <td>0.0</td>\n",
       "      <td>0.0</td>\n",
       "      <td>...</td>\n",
       "      <td>0.0</td>\n",
       "      <td>0.0</td>\n",
       "      <td>0.0</td>\n",
       "      <td>0.0</td>\n",
       "      <td>0.0</td>\n",
       "      <td>1.0</td>\n",
       "      <td>0.0</td>\n",
       "      <td>0.0</td>\n",
       "      <td>1.0</td>\n",
       "      <td>0.0</td>\n",
       "    </tr>\n",
       "  </tbody>\n",
       "</table>\n",
       "<p>5 rows × 107 columns</p>\n",
       "</div>"
      ],
      "text/plain": [
       "   age  fnlwgt  educationnum  capitalgain  capitalloss  hoursperweek  \\\n",
       "0   25  226802             7            0            0            40   \n",
       "1   38   89814             9            0            0            50   \n",
       "2   28  336951            12            0            0            40   \n",
       "3   44  160323            10         7688            0            40   \n",
       "4   18  103497            10            0            0            30   \n",
       "\n",
       "   wrkclass_ Federal-gov  wrkclass_ Local-gov  wrkclass_ Never-worked  \\\n",
       "0                    0.0                  0.0                     0.0   \n",
       "1                    0.0                  0.0                     0.0   \n",
       "2                    0.0                  1.0                     0.0   \n",
       "3                    0.0                  0.0                     0.0   \n",
       "4                    0.0                  0.0                     0.0   \n",
       "\n",
       "   wrkclass_ Private      ...        nativecountry_ Scotland  \\\n",
       "0                1.0      ...                            0.0   \n",
       "1                1.0      ...                            0.0   \n",
       "2                0.0      ...                            0.0   \n",
       "3                1.0      ...                            0.0   \n",
       "4                0.0      ...                            0.0   \n",
       "\n",
       "   nativecountry_ South  nativecountry_ Taiwan  nativecountry_ Thailand  \\\n",
       "0                   0.0                    0.0                      0.0   \n",
       "1                   0.0                    0.0                      0.0   \n",
       "2                   0.0                    0.0                      0.0   \n",
       "3                   0.0                    0.0                      0.0   \n",
       "4                   0.0                    0.0                      0.0   \n",
       "\n",
       "   nativecountry_ Trinadad&Tobago  nativecountry_ United-States  \\\n",
       "0                             0.0                           1.0   \n",
       "1                             0.0                           1.0   \n",
       "2                             0.0                           1.0   \n",
       "3                             0.0                           1.0   \n",
       "4                             0.0                           1.0   \n",
       "\n",
       "   nativecountry_ Vietnam  nativecountry_ Yugoslavia  income_ <=50K.  \\\n",
       "0                     0.0                        0.0             1.0   \n",
       "1                     0.0                        0.0             1.0   \n",
       "2                     0.0                        0.0             0.0   \n",
       "3                     0.0                        0.0             0.0   \n",
       "4                     0.0                        0.0             1.0   \n",
       "\n",
       "   income_ >50K.  \n",
       "0            0.0  \n",
       "1            0.0  \n",
       "2            1.0  \n",
       "3            1.0  \n",
       "4            0.0  \n",
       "\n",
       "[5 rows x 107 columns]"
      ]
     },
     "execution_count": 41,
     "metadata": {},
     "output_type": "execute_result"
    }
   ],
   "source": [
    "df_test.head()"
   ]
  },
  {
   "cell_type": "code",
   "execution_count": 12,
   "metadata": {
    "collapsed": true
   },
   "outputs": [
    {
     "data": {
      "text/plain": [
       "['age',\n",
       " 'fnlwgt',\n",
       " 'educationnum',\n",
       " 'capitalgain',\n",
       " 'capitalloss',\n",
       " 'hoursperweek',\n",
       " 'wrkclass_ ?',\n",
       " 'wrkclass_ Federal-gov',\n",
       " 'wrkclass_ Local-gov',\n",
       " 'wrkclass_ Never-worked',\n",
       " 'wrkclass_ Private',\n",
       " 'wrkclass_ Self-emp-inc',\n",
       " 'wrkclass_ Self-emp-not-inc',\n",
       " 'wrkclass_ State-gov',\n",
       " 'wrkclass_ Without-pay',\n",
       " 'education_ 10th',\n",
       " 'education_ 11th',\n",
       " 'education_ 12th',\n",
       " 'education_ 1st-4th',\n",
       " 'education_ 5th-6th',\n",
       " 'education_ 7th-8th',\n",
       " 'education_ 9th',\n",
       " 'education_ Assoc-acdm',\n",
       " 'education_ Assoc-voc',\n",
       " 'education_ Bachelors',\n",
       " 'education_ Doctorate',\n",
       " 'education_ HS-grad',\n",
       " 'education_ Masters',\n",
       " 'education_ Preschool',\n",
       " 'education_ Prof-school',\n",
       " 'education_ Some-college',\n",
       " 'maritalstatus_ Divorced',\n",
       " 'maritalstatus_ Married-AF-spouse',\n",
       " 'maritalstatus_ Married-civ-spouse',\n",
       " 'maritalstatus_ Married-spouse-absent',\n",
       " 'maritalstatus_ Never-married',\n",
       " 'maritalstatus_ Separated',\n",
       " 'maritalstatus_ Widowed',\n",
       " 'occupation_ ?',\n",
       " 'occupation_ Adm-clerical',\n",
       " 'occupation_ Armed-Forces',\n",
       " 'occupation_ Craft-repair',\n",
       " 'occupation_ Exec-managerial',\n",
       " 'occupation_ Farming-fishing',\n",
       " 'occupation_ Handlers-cleaners',\n",
       " 'occupation_ Machine-op-inspct',\n",
       " 'occupation_ Other-service',\n",
       " 'occupation_ Priv-house-serv',\n",
       " 'occupation_ Prof-specialty',\n",
       " 'occupation_ Protective-serv',\n",
       " 'occupation_ Sales',\n",
       " 'occupation_ Tech-support',\n",
       " 'occupation_ Transport-moving',\n",
       " 'relationship_ Husband',\n",
       " 'relationship_ Not-in-family',\n",
       " 'relationship_ Other-relative',\n",
       " 'relationship_ Own-child',\n",
       " 'relationship_ Unmarried',\n",
       " 'relationship_ Wife',\n",
       " 'race_ Amer-Indian-Eskimo',\n",
       " 'race_ Asian-Pac-Islander',\n",
       " 'race_ Black',\n",
       " 'race_ Other',\n",
       " 'race_ White',\n",
       " 'sex_ Female',\n",
       " 'sex_ Male',\n",
       " 'nativecountry_ ?',\n",
       " 'nativecountry_ Cambodia',\n",
       " 'nativecountry_ Canada',\n",
       " 'nativecountry_ China',\n",
       " 'nativecountry_ Columbia',\n",
       " 'nativecountry_ Cuba',\n",
       " 'nativecountry_ Dominican-Republic',\n",
       " 'nativecountry_ Ecuador',\n",
       " 'nativecountry_ El-Salvador',\n",
       " 'nativecountry_ England',\n",
       " 'nativecountry_ France',\n",
       " 'nativecountry_ Germany',\n",
       " 'nativecountry_ Greece',\n",
       " 'nativecountry_ Guatemala',\n",
       " 'nativecountry_ Haiti',\n",
       " 'nativecountry_ Honduras',\n",
       " 'nativecountry_ Hong',\n",
       " 'nativecountry_ Hungary',\n",
       " 'nativecountry_ India',\n",
       " 'nativecountry_ Iran',\n",
       " 'nativecountry_ Ireland',\n",
       " 'nativecountry_ Italy',\n",
       " 'nativecountry_ Jamaica',\n",
       " 'nativecountry_ Japan',\n",
       " 'nativecountry_ Laos',\n",
       " 'nativecountry_ Mexico',\n",
       " 'nativecountry_ Nicaragua',\n",
       " 'nativecountry_ Outlying-US(Guam-USVI-etc)',\n",
       " 'nativecountry_ Peru',\n",
       " 'nativecountry_ Philippines',\n",
       " 'nativecountry_ Poland',\n",
       " 'nativecountry_ Portugal',\n",
       " 'nativecountry_ Puerto-Rico',\n",
       " 'nativecountry_ Scotland',\n",
       " 'nativecountry_ South',\n",
       " 'nativecountry_ Taiwan',\n",
       " 'nativecountry_ Thailand',\n",
       " 'nativecountry_ Trinadad&Tobago',\n",
       " 'nativecountry_ United-States',\n",
       " 'nativecountry_ Vietnam',\n",
       " 'nativecountry_ Yugoslavia',\n",
       " 'income_ <=50K.',\n",
       " 'income_ >50K.']"
      ]
     },
     "execution_count": 12,
     "metadata": {},
     "output_type": "execute_result"
    }
   ],
   "source": [
    "list(df_test)"
   ]
  },
  {
   "cell_type": "code",
   "execution_count": 24,
   "metadata": {
    "collapsed": false
   },
   "outputs": [],
   "source": [
    "df_train = df_train.drop(['wrkclass_ ?','occupation_ ?','nativecountry_ ?'], 1)\n",
    "df_test = df_test.drop(['wrkclass_ ?','occupation_ ?','nativecountry_ ?'], 1)"
   ]
  },
  {
   "cell_type": "code",
   "execution_count": 49,
   "metadata": {
    "collapsed": false
   },
   "outputs": [
    {
     "data": {
      "text/plain": [
       "106"
      ]
     },
     "execution_count": 49,
     "metadata": {},
     "output_type": "execute_result"
    }
   ],
   "source": [
    "df_train.columns.get_loc('income_ <=50K')"
   ]
  },
  {
   "cell_type": "code",
   "execution_count": 30,
   "metadata": {
    "collapsed": true
   },
   "outputs": [],
   "source": [
    "df_test.insert(79,'nativecountry_ Holand-Netherlands',0)"
   ]
  },
  {
   "cell_type": "code",
   "execution_count": 42,
   "metadata": {
    "collapsed": true
   },
   "outputs": [],
   "source": [
    "df_test.insert(0,'Bias_Term',1)\n",
    "df_train.insert(0,'Bias_Term',1)"
   ]
  },
  {
   "cell_type": "code",
   "execution_count": 43,
   "metadata": {
    "collapsed": false
   },
   "outputs": [
    {
     "data": {
      "text/plain": [
       "['Bias_Term',\n",
       " 'age',\n",
       " 'fnlwgt',\n",
       " 'educationnum',\n",
       " 'capitalgain',\n",
       " 'capitalloss',\n",
       " 'hoursperweek',\n",
       " 'wrkclass_ Federal-gov',\n",
       " 'wrkclass_ Local-gov',\n",
       " 'wrkclass_ Never-worked',\n",
       " 'wrkclass_ Private',\n",
       " 'wrkclass_ Self-emp-inc',\n",
       " 'wrkclass_ Self-emp-not-inc',\n",
       " 'wrkclass_ State-gov',\n",
       " 'wrkclass_ Without-pay',\n",
       " 'education_ 10th',\n",
       " 'education_ 11th',\n",
       " 'education_ 12th',\n",
       " 'education_ 1st-4th',\n",
       " 'education_ 5th-6th',\n",
       " 'education_ 7th-8th',\n",
       " 'education_ 9th',\n",
       " 'education_ Assoc-acdm',\n",
       " 'education_ Assoc-voc',\n",
       " 'education_ Bachelors',\n",
       " 'education_ Doctorate',\n",
       " 'education_ HS-grad',\n",
       " 'education_ Masters',\n",
       " 'education_ Preschool',\n",
       " 'education_ Prof-school',\n",
       " 'education_ Some-college',\n",
       " 'maritalstatus_ Divorced',\n",
       " 'maritalstatus_ Married-AF-spouse',\n",
       " 'maritalstatus_ Married-civ-spouse',\n",
       " 'maritalstatus_ Married-spouse-absent',\n",
       " 'maritalstatus_ Never-married',\n",
       " 'maritalstatus_ Separated',\n",
       " 'maritalstatus_ Widowed',\n",
       " 'occupation_ Adm-clerical',\n",
       " 'occupation_ Armed-Forces',\n",
       " 'occupation_ Craft-repair',\n",
       " 'occupation_ Exec-managerial',\n",
       " 'occupation_ Farming-fishing',\n",
       " 'occupation_ Handlers-cleaners',\n",
       " 'occupation_ Machine-op-inspct',\n",
       " 'occupation_ Other-service',\n",
       " 'occupation_ Priv-house-serv',\n",
       " 'occupation_ Prof-specialty',\n",
       " 'occupation_ Protective-serv',\n",
       " 'occupation_ Sales',\n",
       " 'occupation_ Tech-support',\n",
       " 'occupation_ Transport-moving',\n",
       " 'relationship_ Husband',\n",
       " 'relationship_ Not-in-family',\n",
       " 'relationship_ Other-relative',\n",
       " 'relationship_ Own-child',\n",
       " 'relationship_ Unmarried',\n",
       " 'relationship_ Wife',\n",
       " 'race_ Amer-Indian-Eskimo',\n",
       " 'race_ Asian-Pac-Islander',\n",
       " 'race_ Black',\n",
       " 'race_ Other',\n",
       " 'race_ White',\n",
       " 'sex_ Female',\n",
       " 'sex_ Male',\n",
       " 'nativecountry_ Cambodia',\n",
       " 'nativecountry_ Canada',\n",
       " 'nativecountry_ China',\n",
       " 'nativecountry_ Columbia',\n",
       " 'nativecountry_ Cuba',\n",
       " 'nativecountry_ Dominican-Republic',\n",
       " 'nativecountry_ Ecuador',\n",
       " 'nativecountry_ El-Salvador',\n",
       " 'nativecountry_ England',\n",
       " 'nativecountry_ France',\n",
       " 'nativecountry_ Germany',\n",
       " 'nativecountry_ Greece',\n",
       " 'nativecountry_ Guatemala',\n",
       " 'nativecountry_ Haiti',\n",
       " 'nativecountry_ Honduras',\n",
       " 'nativecountry_ Holand-Netherlands',\n",
       " 'nativecountry_ Hong',\n",
       " 'nativecountry_ Hungary',\n",
       " 'nativecountry_ India',\n",
       " 'nativecountry_ Iran',\n",
       " 'nativecountry_ Ireland',\n",
       " 'nativecountry_ Italy',\n",
       " 'nativecountry_ Jamaica',\n",
       " 'nativecountry_ Japan',\n",
       " 'nativecountry_ Laos',\n",
       " 'nativecountry_ Mexico',\n",
       " 'nativecountry_ Nicaragua',\n",
       " 'nativecountry_ Outlying-US(Guam-USVI-etc)',\n",
       " 'nativecountry_ Peru',\n",
       " 'nativecountry_ Philippines',\n",
       " 'nativecountry_ Poland',\n",
       " 'nativecountry_ Portugal',\n",
       " 'nativecountry_ Puerto-Rico',\n",
       " 'nativecountry_ Scotland',\n",
       " 'nativecountry_ South',\n",
       " 'nativecountry_ Taiwan',\n",
       " 'nativecountry_ Thailand',\n",
       " 'nativecountry_ Trinadad&Tobago',\n",
       " 'nativecountry_ United-States',\n",
       " 'nativecountry_ Vietnam',\n",
       " 'nativecountry_ Yugoslavia',\n",
       " 'income_ <=50K.',\n",
       " 'income_ >50K.']"
      ]
     },
     "execution_count": 43,
     "metadata": {},
     "output_type": "execute_result"
    }
   ],
   "source": [
    "list(df_test)"
   ]
  },
  {
   "cell_type": "code",
   "execution_count": 44,
   "metadata": {
    "collapsed": false
   },
   "outputs": [
    {
     "data": {
      "text/plain": [
       "['Bias_Term',\n",
       " 'age',\n",
       " 'fnlwgt',\n",
       " 'educationnum',\n",
       " 'capitalgain',\n",
       " 'capitalloss',\n",
       " 'hoursperweek',\n",
       " 'wrkclass_ Federal-gov',\n",
       " 'wrkclass_ Local-gov',\n",
       " 'wrkclass_ Never-worked',\n",
       " 'wrkclass_ Private',\n",
       " 'wrkclass_ Self-emp-inc',\n",
       " 'wrkclass_ Self-emp-not-inc',\n",
       " 'wrkclass_ State-gov',\n",
       " 'wrkclass_ Without-pay',\n",
       " 'education_ 10th',\n",
       " 'education_ 11th',\n",
       " 'education_ 12th',\n",
       " 'education_ 1st-4th',\n",
       " 'education_ 5th-6th',\n",
       " 'education_ 7th-8th',\n",
       " 'education_ 9th',\n",
       " 'education_ Assoc-acdm',\n",
       " 'education_ Assoc-voc',\n",
       " 'education_ Bachelors',\n",
       " 'education_ Doctorate',\n",
       " 'education_ HS-grad',\n",
       " 'education_ Masters',\n",
       " 'education_ Preschool',\n",
       " 'education_ Prof-school',\n",
       " 'education_ Some-college',\n",
       " 'maritalstatus_ Divorced',\n",
       " 'maritalstatus_ Married-AF-spouse',\n",
       " 'maritalstatus_ Married-civ-spouse',\n",
       " 'maritalstatus_ Married-spouse-absent',\n",
       " 'maritalstatus_ Never-married',\n",
       " 'maritalstatus_ Separated',\n",
       " 'maritalstatus_ Widowed',\n",
       " 'occupation_ Adm-clerical',\n",
       " 'occupation_ Armed-Forces',\n",
       " 'occupation_ Craft-repair',\n",
       " 'occupation_ Exec-managerial',\n",
       " 'occupation_ Farming-fishing',\n",
       " 'occupation_ Handlers-cleaners',\n",
       " 'occupation_ Machine-op-inspct',\n",
       " 'occupation_ Other-service',\n",
       " 'occupation_ Priv-house-serv',\n",
       " 'occupation_ Prof-specialty',\n",
       " 'occupation_ Protective-serv',\n",
       " 'occupation_ Sales',\n",
       " 'occupation_ Tech-support',\n",
       " 'occupation_ Transport-moving',\n",
       " 'relationship_ Husband',\n",
       " 'relationship_ Not-in-family',\n",
       " 'relationship_ Other-relative',\n",
       " 'relationship_ Own-child',\n",
       " 'relationship_ Unmarried',\n",
       " 'relationship_ Wife',\n",
       " 'race_ Amer-Indian-Eskimo',\n",
       " 'race_ Asian-Pac-Islander',\n",
       " 'race_ Black',\n",
       " 'race_ Other',\n",
       " 'race_ White',\n",
       " 'sex_ Female',\n",
       " 'sex_ Male',\n",
       " 'nativecountry_ Cambodia',\n",
       " 'nativecountry_ Canada',\n",
       " 'nativecountry_ China',\n",
       " 'nativecountry_ Columbia',\n",
       " 'nativecountry_ Cuba',\n",
       " 'nativecountry_ Dominican-Republic',\n",
       " 'nativecountry_ Ecuador',\n",
       " 'nativecountry_ El-Salvador',\n",
       " 'nativecountry_ England',\n",
       " 'nativecountry_ France',\n",
       " 'nativecountry_ Germany',\n",
       " 'nativecountry_ Greece',\n",
       " 'nativecountry_ Guatemala',\n",
       " 'nativecountry_ Haiti',\n",
       " 'nativecountry_ Holand-Netherlands',\n",
       " 'nativecountry_ Honduras',\n",
       " 'nativecountry_ Hong',\n",
       " 'nativecountry_ Hungary',\n",
       " 'nativecountry_ India',\n",
       " 'nativecountry_ Iran',\n",
       " 'nativecountry_ Ireland',\n",
       " 'nativecountry_ Italy',\n",
       " 'nativecountry_ Jamaica',\n",
       " 'nativecountry_ Japan',\n",
       " 'nativecountry_ Laos',\n",
       " 'nativecountry_ Mexico',\n",
       " 'nativecountry_ Nicaragua',\n",
       " 'nativecountry_ Outlying-US(Guam-USVI-etc)',\n",
       " 'nativecountry_ Peru',\n",
       " 'nativecountry_ Philippines',\n",
       " 'nativecountry_ Poland',\n",
       " 'nativecountry_ Portugal',\n",
       " 'nativecountry_ Puerto-Rico',\n",
       " 'nativecountry_ Scotland',\n",
       " 'nativecountry_ South',\n",
       " 'nativecountry_ Taiwan',\n",
       " 'nativecountry_ Thailand',\n",
       " 'nativecountry_ Trinadad&Tobago',\n",
       " 'nativecountry_ United-States',\n",
       " 'nativecountry_ Vietnam',\n",
       " 'nativecountry_ Yugoslavia',\n",
       " 'income_ <=50K',\n",
       " 'income_ >50K']"
      ]
     },
     "execution_count": 44,
     "metadata": {},
     "output_type": "execute_result"
    }
   ],
   "source": [
    "list(df_train)"
   ]
  },
  {
   "cell_type": "code",
   "execution_count": 45,
   "metadata": {
    "collapsed": false
   },
   "outputs": [
    {
     "data": {
      "text/plain": [
       "(16281, 108)"
      ]
     },
     "execution_count": 45,
     "metadata": {},
     "output_type": "execute_result"
    }
   ],
   "source": [
    "df_test.shape"
   ]
  },
  {
   "cell_type": "code",
   "execution_count": 46,
   "metadata": {
    "collapsed": false
   },
   "outputs": [
    {
     "data": {
      "text/plain": [
       "(32561, 108)"
      ]
     },
     "execution_count": 46,
     "metadata": {},
     "output_type": "execute_result"
    }
   ],
   "source": [
    "df_train.shape"
   ]
  },
  {
   "cell_type": "code",
   "execution_count": 34,
   "metadata": {
    "collapsed": false
   },
   "outputs": [
    {
     "data": {
      "text/plain": [
       "Index(['income_ <=50K', 'income_ >50K'], dtype='object')"
      ]
     },
     "execution_count": 34,
     "metadata": {},
     "output_type": "execute_result"
    }
   ],
   "source": [
    "df_train.columns.difference(df_test.columns)"
   ]
  },
  {
   "cell_type": "code",
   "execution_count": 35,
   "metadata": {
    "collapsed": false
   },
   "outputs": [
    {
     "data": {
      "text/plain": [
       "0    39\n",
       "1    50\n",
       "2    38\n",
       "3    53\n",
       "4    28\n",
       "Name: age, dtype: int64"
      ]
     },
     "execution_count": 35,
     "metadata": {},
     "output_type": "execute_result"
    }
   ],
   "source": [
    "#Accessing columns\n",
    "df_train['age'].head()"
   ]
  },
  {
   "cell_type": "code",
   "execution_count": 36,
   "metadata": {
    "collapsed": true
   },
   "outputs": [
    {
     "data": {
      "text/plain": [
       "1        50\n",
       "3        53\n",
       "7        52\n",
       "21       54\n",
       "24       59\n",
       "25       56\n",
       "27       54\n",
       "41       53\n",
       "45       57\n",
       "46       53\n",
       "53       50\n",
       "67       53\n",
       "74       79\n",
       "77       67\n",
       "81       52\n",
       "83       59\n",
       "85       53\n",
       "90       57\n",
       "100      76\n",
       "112      56\n",
       "115      53\n",
       "116      56\n",
       "118      55\n",
       "140      61\n",
       "144      70\n",
       "148      64\n",
       "154      52\n",
       "157      71\n",
       "160      68\n",
       "169      66\n",
       "         ..\n",
       "32448    61\n",
       "32454    50\n",
       "32459    85\n",
       "32460    62\n",
       "32463    58\n",
       "32465    66\n",
       "32467    55\n",
       "32469    58\n",
       "32470    50\n",
       "32479    64\n",
       "32481    52\n",
       "32487    51\n",
       "32489    61\n",
       "32490    60\n",
       "32494    82\n",
       "32498    57\n",
       "32501    71\n",
       "32504    50\n",
       "32507    50\n",
       "32515    66\n",
       "32518    57\n",
       "32522    58\n",
       "32525    81\n",
       "32533    54\n",
       "32539    71\n",
       "32542    72\n",
       "32548    65\n",
       "32554    53\n",
       "32558    58\n",
       "32560    52\n",
       "Name: age, dtype: int64"
      ]
     },
     "execution_count": 36,
     "metadata": {},
     "output_type": "execute_result"
    }
   ],
   "source": [
    "#Accessing rows, columns\n",
    "df_train.loc[df_train['age'] >= 50, 'age']"
   ]
  },
  {
   "cell_type": "code",
   "execution_count": 51,
   "metadata": {
    "collapsed": false
   },
   "outputs": [],
   "source": [
    "data_train=df_train.as_matrix()\n",
    "data_test=df_test.as_matrix()"
   ]
  },
  {
   "cell_type": "code",
   "execution_count": 60,
   "metadata": {
    "collapsed": false
   },
   "outputs": [],
   "source": [
    "X_train=[d[0:106] for d in data_train]\n",
    "X_test=[d[0:106] for d in data_test]\n",
    "Y_train=[d[107] for d in data_train]\n",
    "Y_test=[d[107] for d in data_test]"
   ]
  },
  {
   "cell_type": "code",
   "execution_count": 67,
   "metadata": {
    "collapsed": false
   },
   "outputs": [],
   "source": [
    "X_train=numpy.matrix(X_train)\n",
    "X_test=numpy.matrix(X_test)\n",
    "Y_train=numpy.matrix(Y_train)\n",
    "Y_train=Y_train.transpose()\n",
    "Y_test=numpy.matrix(Y_test)\n",
    "Y_test=Y_test.transpose()"
   ]
  },
  {
   "cell_type": "code",
   "execution_count": 70,
   "metadata": {
    "collapsed": false
   },
   "outputs": [
    {
     "data": {
      "text/plain": [
       "(16281, 106)"
      ]
     },
     "execution_count": 70,
     "metadata": {},
     "output_type": "execute_result"
    }
   ],
   "source": [
    "X_test.shape"
   ]
  },
  {
   "cell_type": "code",
   "execution_count": null,
   "metadata": {
    "collapsed": true
   },
   "outputs": [],
   "source": []
  },
  {
   "cell_type": "code",
   "execution_count": null,
   "metadata": {
    "collapsed": true
   },
   "outputs": [],
   "source": []
  },
  {
   "cell_type": "code",
   "execution_count": null,
   "metadata": {
    "collapsed": true
   },
   "outputs": [],
   "source": []
  },
  {
   "cell_type": "code",
   "execution_count": null,
   "metadata": {
    "collapsed": true
   },
   "outputs": [],
   "source": []
  },
  {
   "cell_type": "code",
   "execution_count": null,
   "metadata": {
    "collapsed": true
   },
   "outputs": [],
   "source": []
  },
  {
   "cell_type": "code",
   "execution_count": 15,
   "metadata": {
    "collapsed": false
   },
   "outputs": [],
   "source": [
    "y=[(data[i][14]==' >50K') for i in range(len(data))]"
   ]
  },
  {
   "cell_type": "code",
   "execution_count": 16,
   "metadata": {
    "collapsed": false
   },
   "outputs": [
    {
     "data": {
      "text/plain": [
       "[False, False, False, False, False, False, False, True, True, True]"
      ]
     },
     "execution_count": 16,
     "metadata": {},
     "output_type": "execute_result"
    }
   ],
   "source": [
    "y[:10]"
   ]
  },
  {
   "cell_type": "code",
   "execution_count": 17,
   "metadata": {
    "collapsed": false
   },
   "outputs": [],
   "source": [
    "temp_pos=[]\n",
    "temp_neg=[]\n",
    "for i in range(len(data)):\n",
    "    if (y[i]==1):\n",
    "        temp_pos.append(data[i][2])\n",
    "    else:\n",
    "        temp_neg.append(data[i][2])\n",
    "        "
   ]
  },
  {
   "cell_type": "code",
   "execution_count": 18,
   "metadata": {
    "collapsed": false
   },
   "outputs": [
    {
     "data": {
      "text/plain": [
       "1226583"
      ]
     },
     "execution_count": 18,
     "metadata": {},
     "output_type": "execute_result"
    }
   ],
   "source": [
    "max(temp_pos)"
   ]
  },
  {
   "cell_type": "code",
   "execution_count": 16,
   "metadata": {
    "collapsed": false
   },
   "outputs": [
    {
     "data": {
      "image/png": "[encoded data removed]",
      "text/plain": [
       "<matplotlib.figure.Figure at 0x97b9410>"
      ]
     },
     "metadata": {},
     "output_type": "display_data"
    }
   ],
   "source": [
    "import matplotlib.pyplot as plt\n",
    "\n",
    "plt.plot(range(len(temp_neg)),temp_neg)\n",
    "plt.show()"
   ]
  },
  {
   "cell_type": "code",
   "execution_count": 19,
   "metadata": {
    "collapsed": false
   },
   "outputs": [
    {
     "data": {
      "image/png": "[encoded data removed]",
      "text/plain": [
       "<matplotlib.figure.Figure at 0x7572710>"
      ]
     },
     "metadata": {},
     "output_type": "display_data"
    }
   ],
   "source": [
    "import numpy as np\n",
    "import scipy.stats as stats\n",
    "import pylab as pl\n",
    "\n",
    "h = sorted(temp_neg)  #sorted\n",
    "\n",
    "fit = stats.norm.pdf(h, np.mean(h), np.std(h))  #this is a fitting indeed\n",
    "\n",
    "pl.plot(h,fit,'-o')\n",
    "\n",
    "pl.hist(h,normed=True)      #use this to draw histogram of your data\n",
    "\n",
    "pl.show()                   #use may also need add this "
   ]
  },
  {
   "cell_type": "code",
   "execution_count": 20,
   "metadata": {
    "collapsed": false
   },
   "outputs": [
    {
     "data": {
      "image/png": "[encoded data removed]",
      "text/plain": [
       "<matplotlib.figure.Figure at 0x9895710>"
      ]
     },
     "metadata": {},
     "output_type": "display_data"
    }
   ],
   "source": [
    "import numpy as np\n",
    "import scipy.stats as stats\n",
    "import pylab as pl\n",
    "\n",
    "h = sorted(temp_pos)  #sorted\n",
    "\n",
    "fit = stats.norm.pdf(h, np.mean(h), np.std(h))  #this is a fitting indeed\n",
    "\n",
    "pl.plot(h,fit,'-o')\n",
    "\n",
    "pl.hist(h,normed=True)      #use this to draw histogram of your data\n",
    "\n",
    "pl.show()                   #use may also need add this "
   ]
  },
  {
   "cell_type": "code",
   "execution_count": null,
   "metadata": {
    "collapsed": true
   },
   "outputs": [],
   "source": []
  }
 ],
 "metadata": {
  "anaconda-cloud": {},
  "kernelspec": {
   "display_name": "Python [default]",
   "language": "python",
   "name": "python3"
  },
  "language_info": {
   "codemirror_mode": {
    "name": "ipython",
    "version": 3
   },
   "file_extension": ".py",
   "mimetype": "text/x-python",
   "name": "python",
   "nbconvert_exporter": "python",
   "pygments_lexer": "ipython3",
   "version": "3.5.2"
  }
 },
 "nbformat": 4,
 "nbformat_minor": 1
}
